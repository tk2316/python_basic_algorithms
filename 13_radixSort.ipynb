{
 "cells": [
  {
   "cell_type": "code",
   "execution_count": 1,
   "id": "283eeed7",
   "metadata": {},
   "outputs": [
    {
     "name": "stdout",
     "output_type": "stream",
     "text": [
      "radix: 1\n",
      "n:  19 => 9\n",
      "n:   2 => 2\n",
      "n:  31 => 1\n",
      "n:  45 => 5\n",
      "n:  30 => 0\n",
      "n:  11 => 1\n",
      "n: 121 => 1\n",
      "n:  27 => 7\n",
      "[30, 31, 11, 121, 2, 45, 27, 19]\n",
      "================================================================================\n",
      "radix: 10\n",
      "n:  30 => 3\n",
      "n:  31 => 3\n",
      "n:  11 => 1\n",
      "n: 121 => 2\n",
      "n:   2 => 0\n",
      "n:  45 => 4\n",
      "n:  27 => 2\n",
      "n:  19 => 1\n",
      "[2, 11, 19, 121, 27, 30, 31, 45]\n",
      "================================================================================\n",
      "radix: 100\n",
      "n:   2 => 0\n",
      "n:  11 => 0\n",
      "n:  19 => 0\n",
      "n: 121 => 1\n",
      "n:  27 => 0\n",
      "n:  30 => 0\n",
      "n:  31 => 0\n",
      "n:  45 => 0\n",
      "[2, 11, 19, 27, 30, 31, 45, 121]\n",
      "================================================================================\n",
      "radix: 1000\n",
      "n:   2 => 0\n",
      "n:  11 => 0\n",
      "n:  19 => 0\n",
      "n:  27 => 0\n",
      "n:  30 => 0\n",
      "n:  31 => 0\n",
      "n:  45 => 0\n",
      "n: 121 => 0\n",
      "[2, 11, 19, 27, 30, 31, 45, 121]\n",
      "================================================================================\n"
     ]
    }
   ],
   "source": [
    "#radix sort\n",
    "#base 10 then range(10), base 8 then range(8), base 16 then range(16)\n",
    "queueList = [[] for i in range(10)]\n",
    "data = [19, 2, 31, 45, 30, 11, 121, 27]\n",
    "isSort = False\n",
    "radix = 1     \n",
    "\n",
    "while not isSort:\n",
    "    isSort = True\n",
    "    queueList = [[] for i in range(10)]\n",
    "    print('radix: {}'.format(radix))\n",
    "    \n",
    "    for n in data:\n",
    "        print('n: {0:3d}'.format(n), end=' => ')\n",
    "        digit = n // radix % 10\n",
    "        print(digit)\n",
    "        queueList[digit].append(n)\n",
    "\n",
    "        if isSort and digit > 0: \n",
    "            isSort = False\n",
    "            \n",
    "    index = 0\n",
    "    \n",
    "    for numbers in queueList:\n",
    "        for number in numbers:\n",
    "            data[index] = number\n",
    "            index += 1\n",
    "\n",
    "    print(data)\n",
    "    print('=' * 80)\n",
    "    radix *= 10\n"
   ]
  },
  {
   "cell_type": "code",
   "execution_count": null,
   "id": "d2439721",
   "metadata": {},
   "outputs": [],
   "source": []
  }
 ],
 "metadata": {
  "kernelspec": {
   "display_name": "Python 3 (ipykernel)",
   "language": "python",
   "name": "python3"
  },
  "language_info": {
   "codemirror_mode": {
    "name": "ipython",
    "version": 3
   },
   "file_extension": ".py",
   "mimetype": "text/x-python",
   "name": "python",
   "nbconvert_exporter": "python",
   "pygments_lexer": "ipython3",
   "version": "3.9.6"
  }
 },
 "nbformat": 4,
 "nbformat_minor": 5
}
