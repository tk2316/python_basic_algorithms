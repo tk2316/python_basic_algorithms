{
 "cells": [
  {
   "cell_type": "code",
   "execution_count": 4,
   "id": "8cb3d8be",
   "metadata": {},
   "outputs": [
    {
     "name": "stdout",
     "output_type": "stream",
     "text": [
      "Enter a number: 5\n",
      "5 factorial = 120\n"
     ]
    }
   ],
   "source": [
    "#factorial \n",
    "def factorial(number):\n",
    "    fact = 1\n",
    "    for i in range(1, number + 1):\n",
    "        fact *= i\n",
    "    return fact\n",
    "\n",
    "number = int(input(\"Enter a number: \"))\n",
    "fact = factorial(number)\n",
    "print('{} factorial = {}'.format(number, fact))"
   ]
  },
  {
   "cell_type": "code",
   "execution_count": 6,
   "id": "b7edec0c",
   "metadata": {},
   "outputs": [
    {
     "name": "stdout",
     "output_type": "stream",
     "text": [
      "숫자를 입력해주세요: 5\n",
      "5 factorial = 120\n"
     ]
    }
   ],
   "source": [
    "# factorial using recursion\n",
    "def factorialRecursion(number):\n",
    "    if number == 1:\n",
    "        return 1\n",
    "    return number * factorialRecursion(number - 1)\n",
    "\n",
    "number = int(input(\"숫자를 입력해주세요: \"))\n",
    "fact = factorialRecursion(number)\n",
    "print('{} factorial = {}'.format(number, fact))"
   ]
  },
  {
   "cell_type": "code",
   "execution_count": null,
   "id": "7c5e4d70",
   "metadata": {},
   "outputs": [],
   "source": []
  }
 ],
 "metadata": {
  "kernelspec": {
   "display_name": "Python 3 (ipykernel)",
   "language": "python",
   "name": "python3"
  },
  "language_info": {
   "codemirror_mode": {
    "name": "ipython",
    "version": 3
   },
   "file_extension": ".py",
   "mimetype": "text/x-python",
   "name": "python",
   "nbconvert_exporter": "python",
   "pygments_lexer": "ipython3",
   "version": "3.9.6"
  }
 },
 "nbformat": 4,
 "nbformat_minor": 5
}
