{
 "cells": [
  {
   "cell_type": "code",
   "execution_count": 3,
   "id": "55ab0abf",
   "metadata": {},
   "outputs": [
    {
     "name": "stdout",
     "output_type": "stream",
     "text": [
      "Number to search: 45\n",
      "Compared 3 times\n",
      "Success!!! Target number 45 is at index location 6\n"
     ]
    }
   ],
   "source": [
    "#Binary Search\n",
    "searchData = [2,11,19,27,30,31,45,121]\n",
    "\n",
    "def binarySearch(lst):     \n",
    "    number = int(input(\"Number to search: \"))\n",
    "    l = 0\n",
    "    h = len(lst) - 1\n",
    "    mid = 0\n",
    "    count = 0\n",
    "    isFlag = False \n",
    "    \n",
    "    while l <= h:\n",
    "        mid = (l + h) // 2 \n",
    "        count += 1\n",
    "        \n",
    "        if number > lst[mid]:\n",
    "            l = mid + 1\n",
    "        \n",
    "        elif number < lst[mid]:\n",
    "            h = mid - 1\n",
    "        \n",
    "        else:\n",
    "            isFlag = True\n",
    "            break\n",
    "    print(\"Compared {} times\".format(count))\n",
    "    \n",
    "    if isFlag == True:\n",
    "        print(\"Success!!! Target number {} is at index location {}\".format(number, mid))\n",
    "    \n",
    "    else:\n",
    "        print('Failed')\n",
    "        \n",
    "binarySearch(searchData)"
   ]
  },
  {
   "cell_type": "code",
   "execution_count": null,
   "id": "b9214b61",
   "metadata": {},
   "outputs": [],
   "source": []
  }
 ],
 "metadata": {
  "kernelspec": {
   "display_name": "Python 3 (ipykernel)",
   "language": "python",
   "name": "python3"
  },
  "language_info": {
   "codemirror_mode": {
    "name": "ipython",
    "version": 3
   },
   "file_extension": ".py",
   "mimetype": "text/x-python",
   "name": "python",
   "nbconvert_exporter": "python",
   "pygments_lexer": "ipython3",
   "version": "3.9.6"
  }
 },
 "nbformat": 4,
 "nbformat_minor": 5
}
