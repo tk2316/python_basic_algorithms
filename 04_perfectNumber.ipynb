{
 "cells": [
  {
   "cell_type": "code",
   "execution_count": 4,
   "id": "097c3d81",
   "metadata": {},
   "outputs": [
    {
     "name": "stdout",
     "output_type": "stream",
     "text": [
      "1: Perfect Number =>    6\n",
      "2: Perfect Number =>   28\n",
      "3: Perfect Number =>  496\n",
      "4: Perfect Number => 8128\n",
      "Total Perfect Numbers in the range: 4.\n"
     ]
    }
   ],
   "source": [
    "#Finding Perfect Numbers\n",
    "\n",
    "lm = 0 #Lowest Common Multiple\n",
    "for n in range(4, 10001):\n",
    "    \n",
    "    total = 0 \n",
    "    k = n // 2\n",
    "    \n",
    "    for j in range(1, k + 1):\n",
    "        r = n % j\n",
    "        if r == 0:\n",
    "            total += j \n",
    "    if n == total:  \n",
    "        lm += 1    \n",
    "        print('{0}: Perfect Number => {1:4d}'.format(lm, n))\n",
    "        \n",
    "print('Total Perfect Numbers in the range: {}.'.format(lm))\n",
    "    \n",
    "    \n",
    "# if n = 4 k = 2 \n",
    "# if j in range(1, 3):"
   ]
  },
  {
   "cell_type": "code",
   "execution_count": null,
   "id": "f0761a3b",
   "metadata": {},
   "outputs": [],
   "source": []
  }
 ],
 "metadata": {
  "kernelspec": {
   "display_name": "Python 3 (ipykernel)",
   "language": "python",
   "name": "python3"
  },
  "language_info": {
   "codemirror_mode": {
    "name": "ipython",
    "version": 3
   },
   "file_extension": ".py",
   "mimetype": "text/x-python",
   "name": "python",
   "nbconvert_exporter": "python",
   "pygments_lexer": "ipython3",
   "version": "3.9.6"
  }
 },
 "nbformat": 4,
 "nbformat_minor": 5
}
