{
 "cells": [
  {
   "cell_type": "code",
   "execution_count": 6,
   "id": "29af45a6",
   "metadata": {},
   "outputs": [
    {
     "name": "stdout",
     "output_type": "stream",
     "text": [
      "First Place Numbers: {4, 36, 5, 7, 16, 30}\n",
      "Bonus Number 43\n"
     ]
    }
   ],
   "source": [
    "import random\n",
    "\n",
    "#Lottery Program using set\n",
    "lotto = set()\n",
    "\n",
    "#First Place Numbers\n",
    "while(True):\n",
    "    number = random.randrange(1, 46)\n",
    "    lotto.add(number)\n",
    "    #print('{0:02d} {1}'.format(number, lotto))\n",
    "    #When six unique numbers are saved in the set, exit the while loop\n",
    "    if len(lotto) == 6:\n",
    "        break\n",
    "        \n",
    "print(\"First Place Numbers: {}\".format(lotto), end='')\n",
    "print()\n",
    "\n",
    "#Bonus Numbers\n",
    "while True:\n",
    "    bonus = random.randrange(1, 46)\n",
    "    #print('\\n' + str(bonus))\n",
    "    #If the number stored in bonus is not in the set, exit while loop\n",
    "    if bonus not in lotto:\n",
    "        break\n",
    "print(\"Bonus Number {}\".format(bonus))"
   ]
  },
  {
   "cell_type": "code",
   "execution_count": null,
   "id": "61b22478",
   "metadata": {},
   "outputs": [],
   "source": []
  },
  {
   "cell_type": "code",
   "execution_count": null,
   "id": "4bc7074d",
   "metadata": {},
   "outputs": [],
   "source": []
  }
 ],
 "metadata": {
  "kernelspec": {
   "display_name": "Python 3 (ipykernel)",
   "language": "python",
   "name": "python3"
  },
  "language_info": {
   "codemirror_mode": {
    "name": "ipython",
    "version": 3
   },
   "file_extension": ".py",
   "mimetype": "text/x-python",
   "name": "python",
   "nbconvert_exporter": "python",
   "pygments_lexer": "ipython3",
   "version": "3.9.6"
  }
 },
 "nbformat": 4,
 "nbformat_minor": 5
}
