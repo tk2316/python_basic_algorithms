{
 "cells": [
  {
   "cell_type": "code",
   "execution_count": 2,
   "id": "9bfb7660",
   "metadata": {},
   "outputs": [
    {
     "name": "stdout",
     "output_type": "stream",
     "text": [
      "Enter 2 numbers: 16 18\n",
      "big = 18, small = 16\n",
      "Greatest Common Factor: 2, Least Common Multiple: 144\n"
     ]
    }
   ],
   "source": [
    "#Euclid's Division Algorithm version 1\n",
    "a, b = map(int, input('Enter 2 numbers: ').split())\n",
    "\n",
    "if a > b:\n",
    "    big = a; small = b\n",
    "    \n",
    "else:\n",
    "    big = b; small = a\n",
    "print('big = {}, small = {}'.format(big, small))\n",
    "\n",
    "while True:\n",
    "    r = big % small\n",
    "    if r ==0:       \n",
    "        break\n",
    "\n",
    "    big = small \n",
    "    small = r\n",
    "\n",
    "print(\"Greatest Common Factor: {}, Least Common Multiple: {}\".format(small, a * b // small))\n",
    "    \n",
    "    \n",
    "    \n"
   ]
  },
  {
   "cell_type": "code",
   "execution_count": 3,
   "id": "f9984eb5",
   "metadata": {},
   "outputs": [
    {
     "name": "stdout",
     "output_type": "stream",
     "text": [
      "Enter 2 numbers: 16 18\n",
      "high = 18, low = 16\n",
      "Greatest Common Factor: 2, Least Common Multiple: 144\n"
     ]
    }
   ],
   "source": [
    "#Euclid's Division Algorithm version 2\n",
    "a, b = map(int, input('Enter 2 numbers: ').split())\n",
    "r = 1\n",
    "\n",
    "if a > b:\n",
    "    high = a; low = b\n",
    "    \n",
    "else:\n",
    "    low = a; high = b\n",
    "print('high = {}, low = {}'.format(high, low))\n",
    "\n",
    "while r > 0:\n",
    "    r = high % low\n",
    "    high = low \n",
    "    low = r\n",
    "    \n",
    "l = a * b // high\n",
    "print(\"Greatest Common Factor: {}, Least Common Multiple: {}\".format(high, l))"
   ]
  },
  {
   "cell_type": "code",
   "execution_count": null,
   "id": "87337ae0",
   "metadata": {},
   "outputs": [],
   "source": []
  }
 ],
 "metadata": {
  "kernelspec": {
   "display_name": "Python 3 (ipykernel)",
   "language": "python",
   "name": "python3"
  },
  "language_info": {
   "codemirror_mode": {
    "name": "ipython",
    "version": 3
   },
   "file_extension": ".py",
   "mimetype": "text/x-python",
   "name": "python",
   "nbconvert_exporter": "python",
   "pygments_lexer": "ipython3",
   "version": "3.9.6"
  }
 },
 "nbformat": 4,
 "nbformat_minor": 5
}
