{
 "cells": [
  {
   "cell_type": "code",
   "execution_count": 2,
   "id": "03bce518",
   "metadata": {},
   "outputs": [
    {
     "name": "stdout",
     "output_type": "stream",
     "text": [
      "[19, 2, 31, 27, 30, 11, 121, 45]\n",
      "[19, 2, 30, 11, 31, 27, 121, 45]\n",
      "[2, 11, 19, 27, 30, 31, 45, 121]\n"
     ]
    }
   ],
   "source": [
    "#Shell Sort\n",
    "data = [19, 2, 31, 45, 30, 11, 121, 27]\n",
    "mid = len(data) // 2\n",
    "\n",
    "while mid > 0: \n",
    "    \n",
    "    for i in range(mid, len(data)):\n",
    "        key = data[i]\n",
    "        index = i\n",
    "        \n",
    "        while index >= mid and data[index - mid] > key:\n",
    "            data[index] = data[index - mid]\n",
    "            index -= mid \n",
    "            \n",
    "        data[index] = key\n",
    "        \n",
    "    print(data)\n",
    "    mid //= 2\n",
    "            \n",
    "            "
   ]
  },
  {
   "cell_type": "code",
   "execution_count": null,
   "id": "4cf39076",
   "metadata": {},
   "outputs": [],
   "source": []
  }
 ],
 "metadata": {
  "kernelspec": {
   "display_name": "Python 3 (ipykernel)",
   "language": "python",
   "name": "python3"
  },
  "language_info": {
   "codemirror_mode": {
    "name": "ipython",
    "version": 3
   },
   "file_extension": ".py",
   "mimetype": "text/x-python",
   "name": "python",
   "nbconvert_exporter": "python",
   "pygments_lexer": "ipython3",
   "version": "3.9.6"
  }
 },
 "nbformat": 4,
 "nbformat_minor": 5
}
