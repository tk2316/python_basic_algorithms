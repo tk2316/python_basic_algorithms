{
 "cells": [
  {
   "cell_type": "code",
   "execution_count": 12,
   "id": "e5401fe0",
   "metadata": {},
   "outputs": [
    {
     "name": "stdout",
     "output_type": "stream",
     "text": [
      " 0  0  0  0  0 \n",
      " 0  0  0  0  0 \n",
      " 0  0  0  0  0 \n",
      " 0  0  0  0  0 \n",
      " 0  0  0  0  0 \n"
     ]
    }
   ],
   "source": [
    "#2 Dimension List\n",
    "a = [[0] * 5 for i in range(5)]\n",
    "\n",
    "for i in range(5): \n",
    "    for j in range(5):\n",
    "        print('{0:2d} '.format(a[i][j]), end='')\n",
    "    print()\n"
   ]
  },
  {
   "cell_type": "code",
   "execution_count": 13,
   "id": "73026bd4",
   "metadata": {},
   "outputs": [
    {
     "name": "stdout",
     "output_type": "stream",
     "text": [
      "17 24  1  8 15 \n",
      "23  5  7 14 16 \n",
      " 4  6 13 20 22 \n",
      "10 12 19 21  3 \n",
      "11 18 25  2  9 \n"
     ]
    }
   ],
   "source": [
    "# 5 x 5 Magic Square\n",
    "a = [[0] * 5 for i in range(5)]\n",
    "\n",
    "i = 0 # column\n",
    "j = 2 # row\n",
    "\n",
    "for k in range(1, 26):\n",
    "    a[i][j] = k\n",
    "    \n",
    "    if k % 5 == 0:\n",
    "        i += 1\n",
    "        \n",
    "    else:\n",
    "        i -= 1\n",
    "        \n",
    "        if i < 0:\n",
    "            i = 4\n",
    "        j += 1\n",
    "        \n",
    "        if j >= 5:\n",
    "            j = 0\n",
    "    \n",
    "for i in range(5): \n",
    "    for j in range(5):\n",
    "        print('{0:2d} '.format(a[i][j]), end='')\n",
    "    print()\n",
    "        \n",
    "    "
   ]
  },
  {
   "cell_type": "code",
   "execution_count": 14,
   "id": "59056cb1",
   "metadata": {},
   "outputs": [
    {
     "name": "stdout",
     "output_type": "stream",
     "text": [
      "65\n",
      "\n",
      "65\n",
      "\n",
      "65\n",
      "\n",
      "65\n",
      "\n",
      "65\n",
      "\n",
      "The Total is 65\n"
     ]
    }
   ],
   "source": [
    "#Checking\n",
    "for index in range(5):\n",
    "    print(sum(a[index]))\n",
    "    print()\n",
    "\n",
    "lst = []\n",
    "i = 0\n",
    "j = 0\n",
    "total = 0\n",
    "\n",
    "while(i != 5):\n",
    "    lst.append(a[i][j])\n",
    "    total += a[i][j]\n",
    "    i+=1; j+=1;\n",
    "print(\"The Total is {}\".format(total))\n",
    "\n"
   ]
  },
  {
   "cell_type": "code",
   "execution_count": 15,
   "id": "e48f9970",
   "metadata": {},
   "outputs": [
    {
     "name": "stdout",
     "output_type": "stream",
     "text": [
      "Please enter an odd number: 5\n",
      " 17  24   1   8  15 \n",
      " 23   5   7  14  16 \n",
      "  4   6  13  20  22 \n",
      " 10  12  19  21   3 \n",
      " 11  18  25   2   9 \n"
     ]
    }
   ],
   "source": [
    "#'n' x 'n' Magic Square\n",
    "while True:\n",
    "    row_column_size = int(input(\"Please enter an odd number: \"))\n",
    "    if row_column_size >= 3 and row_column_size % 2 == 1:\n",
    "        break\n",
    "    print(\"Enter Again!\")\n",
    "    \n",
    "a = [[0] * row_column_size for i in range(row_column_size)]\n",
    "\n",
    "i = 0\n",
    "j = row_column_size // 2\n",
    "\n",
    "for k in range(1, row_column_size ** 2 + 1):\n",
    "    a[i][j] = k\n",
    "    if k % row_column_size == 0:\n",
    "        i += 1\n",
    "    else:\n",
    "        i -= 1\n",
    "        if i < 0:\n",
    "            i = row_column_size - 1\n",
    "        j += 1\n",
    "        if j >= row_column_size:\n",
    "            j = 0\n",
    "    \n",
    "for i in range(row_column_size):\n",
    "    for j in range(row_column_size):\n",
    "        print('{0:3d} '.format(a[i][j]), end='')\n",
    "    print()\n",
    "        "
   ]
  },
  {
   "cell_type": "code",
   "execution_count": 16,
   "id": "6aace206",
   "metadata": {},
   "outputs": [
    {
     "name": "stdout",
     "output_type": "stream",
     "text": [
      "65\n",
      "\n",
      "65\n",
      "\n",
      "65\n",
      "\n",
      "65\n",
      "\n",
      "65\n",
      "\n",
      "The Total is 65\n"
     ]
    }
   ],
   "source": [
    "#Checking\n",
    "for index in range(row_column_size):\n",
    "    print(sum(a[index]))\n",
    "    print()\n",
    "\n",
    "lst = []\n",
    "i = 0\n",
    "j = 0\n",
    "total = 0\n",
    "\n",
    "while(i != row_column_size):\n",
    "    lst.append(a[i][j])\n",
    "    total += a[i][j]\n",
    "    i+=1; j+=1;\n",
    "print(\"The Total is {}\".format(total))\n"
   ]
  },
  {
   "cell_type": "code",
   "execution_count": null,
   "id": "048cfad6",
   "metadata": {},
   "outputs": [],
   "source": []
  }
 ],
 "metadata": {
  "kernelspec": {
   "display_name": "Python 3 (ipykernel)",
   "language": "python",
   "name": "python3"
  },
  "language_info": {
   "codemirror_mode": {
    "name": "ipython",
    "version": 3
   },
   "file_extension": ".py",
   "mimetype": "text/x-python",
   "name": "python",
   "nbconvert_exporter": "python",
   "pygments_lexer": "ipython3",
   "version": "3.9.6"
  }
 },
 "nbformat": 4,
 "nbformat_minor": 5
}
