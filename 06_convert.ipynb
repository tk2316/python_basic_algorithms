{
 "cells": [
  {
   "cell_type": "code",
   "execution_count": 9,
   "id": "d8b22df5",
   "metadata": {},
   "outputs": [
    {
     "name": "stdout",
     "output_type": "stream",
     "text": [
      "Enter a number (Decimal System) 26\n",
      "11010"
     ]
    }
   ],
   "source": [
    "#decimal => binary\n",
    "dec = int(input(\"Enter a number (Decimal System) \"))\n",
    "convert = [] \n",
    "\n",
    "while True:\n",
    "    div_res = dec // 2 #묷\n",
    "    r = dec % 2  #나머지\n",
    "    convert.append(r)\n",
    "    if div_res == 0:\n",
    "        break\n",
    "    dec = div_res\n",
    "    \n",
    "for i in range(len(convert)-1, -1, -1):\n",
    "    print(convert[i], end = '')\n",
    "\n",
    "    \n",
    "    "
   ]
  },
  {
   "cell_type": "code",
   "execution_count": 13,
   "id": "d5133c73",
   "metadata": {},
   "outputs": [
    {
     "name": "stdout",
     "output_type": "stream",
     "text": [
      "Enter a number (Decimal System) 26\n",
      "32\n"
     ]
    }
   ],
   "source": [
    "#decimal => base 8\n",
    "dec = int(input(\"Enter a number (Decimal System) \"))\n",
    "convert = [] \n",
    "\n",
    "while True:\n",
    "    div_res = dec // 8 \n",
    "    r = dec % 8  \n",
    "    convert.append(r)\n",
    "    if div_res == 0:\n",
    "        break\n",
    "    dec = div_res\n",
    "    \n",
    "for i in range(len(convert)-1, -1, -1):\n",
    "    print(convert[i], end = '')\n",
    "print()\n",
    "\n",
    "    \n",
    "    "
   ]
  },
  {
   "cell_type": "code",
   "execution_count": 17,
   "id": "aaf4289f",
   "metadata": {},
   "outputs": [
    {
     "name": "stdout",
     "output_type": "stream",
     "text": [
      "Enter a number (Decimal System) and a different base to convert to 26 2\n",
      "11010"
     ]
    }
   ],
   "source": [
    "#decimal to n base conversion\n",
    "dec, n = map(int, input(\"Enter a number (Decimal System) and a different base to convert to \").split())\n",
    "convert = []\n",
    "\n",
    "while True:\n",
    "    div_res = dec // n\n",
    "    r = dec % n  \n",
    "    convert.append(r) \n",
    "    if div_res == 0:\n",
    "        break\n",
    "    dec = div_res\n",
    "    \n",
    "for i in range(len(convert)-1, -1, -1):\n",
    "    print(convert[i] if convert[i] < 10 else chr(convert[i] + 55), end = '')\n",
    "    \n",
    "\n",
    "    "
   ]
  },
  {
   "cell_type": "code",
   "execution_count": null,
   "id": "23ae5778",
   "metadata": {},
   "outputs": [],
   "source": []
  }
 ],
 "metadata": {
  "kernelspec": {
   "display_name": "Python 3 (ipykernel)",
   "language": "python",
   "name": "python3"
  },
  "language_info": {
   "codemirror_mode": {
    "name": "ipython",
    "version": 3
   },
   "file_extension": ".py",
   "mimetype": "text/x-python",
   "name": "python",
   "nbconvert_exporter": "python",
   "pygments_lexer": "ipython3",
   "version": "3.9.6"
  }
 },
 "nbformat": 4,
 "nbformat_minor": 5
}
