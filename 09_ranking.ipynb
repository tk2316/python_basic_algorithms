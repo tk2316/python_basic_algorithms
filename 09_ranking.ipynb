{
 "cells": [
  {
   "cell_type": "code",
   "execution_count": 1,
   "id": "6e603a7e",
   "metadata": {},
   "outputs": [
    {
     "name": "stdout",
     "output_type": "stream",
     "text": [
      "Student who scored  70 is 5 place. ⁕⁕⁕⁕⁕⁕⁕\n",
      "Student who scored 100 is 1 place. ⁕⁕⁕⁕⁕⁕⁕⁕⁕⁕\n",
      "Student who scored  80 is 4 place. ⁕⁕⁕⁕⁕⁕⁕⁕\n",
      "Student who scored 100 is 1 place. ⁕⁕⁕⁕⁕⁕⁕⁕⁕⁕\n",
      "Student who scored  90 is 3 place. ⁕⁕⁕⁕⁕⁕⁕⁕⁕\n"
     ]
    }
   ],
   "source": [
    "#Score ranking Program using selection sort\n",
    "score = [70, 100, 80, 100, 90]\n",
    "rank = [1 for i in range(len(score))]\n",
    "\n",
    "for i in range(len(score) - 1):\n",
    "    for j in range(i + 1, len(score)):\n",
    "\n",
    "        if score[i] > score[j]:\n",
    "            rank[j] += 1\n",
    "            \n",
    "        elif score[i] < score[j]:\n",
    "            rank[i] += 1\n",
    "        \n",
    "for i in range(len(score)):\n",
    "    print('Student who scored {0:3d} is {1} place.'.format(score[i], rank[i]), end=' ')\n",
    "    print('⁕' * (score[i] // 10))"
   ]
  },
  {
   "cell_type": "code",
   "execution_count": 2,
   "id": "354028a6",
   "metadata": {},
   "outputs": [
    {
     "name": "stdout",
     "output_type": "stream",
     "text": [
      "Student who scored  70 is 1 place. ⁕⁕⁕⁕⁕⁕⁕\n",
      "Student who scored 100 is 4 place. ⁕⁕⁕⁕⁕⁕⁕⁕⁕⁕\n",
      "Student who scored  80 is 2 place. ⁕⁕⁕⁕⁕⁕⁕⁕\n",
      "Student who scored 100 is 4 place. ⁕⁕⁕⁕⁕⁕⁕⁕⁕⁕\n",
      "Student who scored  90 is 3 place. ⁕⁕⁕⁕⁕⁕⁕⁕⁕\n"
     ]
    }
   ],
   "source": [
    "score = [70, 100, 80, 100, 90]\n",
    "rank = [1 for i in range(len(score))]\n",
    "\n",
    "for i in range(len(score) - 1):\n",
    "    for j in range(i + 1, len(score)):\n",
    "        if score[i] < score[j]:\n",
    "            rank[j] += 1\n",
    "        elif score[i] > score[j]:\n",
    "            rank[i] += 1\n",
    "        \n",
    "for i in range(len(score)):\n",
    "    print('Student who scored {0:3d} is {1} place.'.format(score[i], rank[i]), end=' ')\n",
    "    print('⁕' * (score[i] // 10))"
   ]
  }
 ],
 "metadata": {
  "kernelspec": {
   "display_name": "Python 3 (ipykernel)",
   "language": "python",
   "name": "python3"
  },
  "language_info": {
   "codemirror_mode": {
    "name": "ipython",
    "version": 3
   },
   "file_extension": ".py",
   "mimetype": "text/x-python",
   "name": "python",
   "nbconvert_exporter": "python",
   "pygments_lexer": "ipython3",
   "version": "3.9.6"
  }
 },
 "nbformat": 4,
 "nbformat_minor": 5
}
