{
 "cells": [
  {
   "cell_type": "code",
   "execution_count": 5,
   "id": "82ed52ac",
   "metadata": {},
   "outputs": [
    {
     "name": "stdout",
     "output_type": "stream",
     "text": [
      "iteration 1: [1, 3, 4, 8, 9]\n",
      "Loop's total iterations: 4 but terminated after 2 iterations\n"
     ]
    }
   ],
   "source": [
    "#Bubble Sort\n",
    "data = [9,1,3,4,8]\n",
    "for i in range(len(data) - 1):\n",
    "    flag = True\n",
    "    for j in range(len(data) - 1 - i):\n",
    "        if data[j] > data[j+1]:\n",
    "            data[j], data[j+1] = data[j+1], data[j]\n",
    "\n",
    "            flag = False\n",
    "            \n",
    "    #Terminate when the list is already sorted   \n",
    "    if flag:\n",
    "        print(\"Loop's total iterations: {} but terminated after {} iterations\".format(len(data)-1, i + 1))\n",
    "        break\n",
    "    print('iteration {}: {}'.format(i+1, data))"
   ]
  }
 ],
 "metadata": {
  "kernelspec": {
   "display_name": "Python 3 (ipykernel)",
   "language": "python",
   "name": "python3"
  },
  "language_info": {
   "codemirror_mode": {
    "name": "ipython",
    "version": 3
   },
   "file_extension": ".py",
   "mimetype": "text/x-python",
   "name": "python",
   "nbconvert_exporter": "python",
   "pygments_lexer": "ipython3",
   "version": "3.9.6"
  }
 },
 "nbformat": 4,
 "nbformat_minor": 5
}
