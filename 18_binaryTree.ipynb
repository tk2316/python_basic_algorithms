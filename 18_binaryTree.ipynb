{
 "cells": [
  {
   "cell_type": "code",
   "execution_count": 21,
   "id": "f7868ffb",
   "metadata": {},
   "outputs": [],
   "source": [
    "class BinaryTree:\n",
    "    def __init__(self, data = None):\n",
    "        self.left = None    \n",
    "        self.data = data     \n",
    "        self.right = None   \n",
    "        \n",
    "    def insert(self, data):\n",
    "        print('Child Node with data {} attempting to be saved under a parent node with data {}'.format(data, self.data ))\n",
    "        \n",
    "        if data < self.data:\n",
    "            print(\"Data to be saved on the left side\")\n",
    "            \n",
    "            if self.left is None:\n",
    "                print(\"Can save data {} on the left side of Parent node with data ({})\".format(data, self.data))\n",
    "                self.left = BinaryTree(data)\n",
    "                print(\"Successfully saved data {0} in the node on the left side of Parent node with data ({1})\".format(data, self.data))\n",
    "            else:\n",
    "                print('Cannot save under this parent node with data {}'.format(self.data))\n",
    "                self.left.insert(data)\n",
    "                \n",
    "        elif data > self.data:\n",
    "            print(\"Data to be saved on the right side\")\n",
    "            if self.right is None:\n",
    "                print(\"Can save data {} on the right side of Parent node with data ({})\".format(data, self.data))\n",
    "                self.right = BinaryTree(data)\n",
    "                print(\"Successfully saved data {0} in the node on the right side of Parent node with data ({1})\".format(data, self.data))\n",
    "            else:\n",
    "                print('Cannot save under this parent node with data {}'.format(self.data))\n",
    "                self.right.insert(data)\n",
    "\n",
    "        else:\n",
    "            print(\"{} already exists in the tree\".format(data))\n",
    "        \n",
    "    def inorder(self):\n",
    "        if self.left != None: \n",
    "            self.left.inorder()\n",
    "        print(self.data, end=' ')\n",
    "        \n",
    "        if self.right != None:\n",
    "            self.right.inorder()\n",
    "    \n",
    "    def preorder(self):\n",
    "        print(self.data, end= ' ')\n",
    "        if self.left != None:\n",
    "            self.left.preorder()\n",
    "        if self.right != None:\n",
    "            self.right.preorder()\n",
    "            \n",
    "    def postorder(self):\n",
    "        if self.left != None:\n",
    "            self.left.postorder()\n",
    "        if self.right != None:\n",
    "            self.right.postorder()\n",
    "        print(self.data, end = ' ')"
   ]
  },
  {
   "cell_type": "code",
   "execution_count": 23,
   "id": "2924474d",
   "metadata": {},
   "outputs": [
    {
     "name": "stdout",
     "output_type": "stream",
     "text": [
      "Child Node with data 6 attempting to be saved under a parent node with data 12\n",
      "Data to be saved on the left side\n",
      "Can save data 6 on the left side of Parent node with data (12)\n",
      "Successfully saved data 6 in the node on the left side of Parent node with data (12)\n",
      "================================================================================\n",
      "Child Node with data 20 attempting to be saved under a parent node with data 12\n",
      "Data to be saved on the right side\n",
      "Can save data 20 on the right side of Parent node with data (12)\n",
      "Successfully saved data 20 in the node on the right side of Parent node with data (12)\n",
      "================================================================================\n",
      "Child Node with data 3 attempting to be saved under a parent node with data 12\n",
      "Data to be saved on the left side\n",
      "Cannot save under this parent node with data 12\n",
      "Child Node with data 3 attempting to be saved under a parent node with data 6\n",
      "Data to be saved on the left side\n",
      "Can save data 3 on the left side of Parent node with data (6)\n",
      "Successfully saved data 3 in the node on the left side of Parent node with data (6)\n",
      "================================================================================\n",
      "Child Node with data 25 attempting to be saved under a parent node with data 12\n",
      "Data to be saved on the right side\n",
      "Cannot save under this parent node with data 12\n",
      "Child Node with data 25 attempting to be saved under a parent node with data 20\n",
      "Data to be saved on the right side\n",
      "Can save data 25 on the right side of Parent node with data (20)\n",
      "Successfully saved data 25 in the node on the right side of Parent node with data (20)\n",
      "================================================================================\n",
      "Child Node with data 10 attempting to be saved under a parent node with data 12\n",
      "Data to be saved on the left side\n",
      "Cannot save under this parent node with data 12\n",
      "Child Node with data 10 attempting to be saved under a parent node with data 6\n",
      "Data to be saved on the right side\n",
      "Can save data 10 on the right side of Parent node with data (6)\n",
      "Successfully saved data 10 in the node on the right side of Parent node with data (6)\n",
      "================================================================================\n",
      "Child Node with data 15 attempting to be saved under a parent node with data 12\n",
      "Data to be saved on the right side\n",
      "Cannot save under this parent node with data 12\n",
      "Child Node with data 15 attempting to be saved under a parent node with data 20\n",
      "Data to be saved on the left side\n",
      "Can save data 15 on the left side of Parent node with data (20)\n",
      "Successfully saved data 15 in the node on the left side of Parent node with data (20)\n",
      "================================================================================\n"
     ]
    }
   ],
   "source": [
    "root = BinaryTree(12)\n",
    "\n",
    "root.insert(6)\n",
    "print('='*80)\n",
    "root.insert(20)\n",
    "print('='*80)\n",
    "root.insert(3)\n",
    "print('='*80)\n",
    "root.insert(25)\n",
    "print('='*80)\n",
    "root.insert(10)\n",
    "print('='*80)\n",
    "root.insert(15)\n",
    "print('='*80)\n"
   ]
  },
  {
   "cell_type": "code",
   "execution_count": 24,
   "id": "65d4424d",
   "metadata": {},
   "outputs": [],
   "source": [
    "#BinaryTree Traversal\n",
    "#(a) Inorder (Left, Root, Right) \n",
    "#(b) Preorder (Root, Left, Right) \n",
    "#(c) Postorder (Left, Right, Root) "
   ]
  },
  {
   "cell_type": "code",
   "execution_count": 25,
   "id": "a774e874",
   "metadata": {},
   "outputs": [
    {
     "name": "stdout",
     "output_type": "stream",
     "text": [
      "3 6 10 12 15 20 25 \n",
      "12 6 3 10 20 15 25 \n",
      "3 10 6 15 25 20 12 "
     ]
    }
   ],
   "source": [
    "root.inorder()\n",
    "print()\n",
    "root.preorder()\n",
    "print()\n",
    "root.postorder()"
   ]
  },
  {
   "cell_type": "code",
   "execution_count": null,
   "id": "1793db58",
   "metadata": {},
   "outputs": [],
   "source": []
  },
  {
   "cell_type": "code",
   "execution_count": null,
   "id": "e7389263",
   "metadata": {},
   "outputs": [],
   "source": []
  }
 ],
 "metadata": {
  "kernelspec": {
   "display_name": "Python 3 (ipykernel)",
   "language": "python",
   "name": "python3"
  },
  "language_info": {
   "codemirror_mode": {
    "name": "ipython",
    "version": 3
   },
   "file_extension": ".py",
   "mimetype": "text/x-python",
   "name": "python",
   "nbconvert_exporter": "python",
   "pygments_lexer": "ipython3",
   "version": "3.9.6"
  }
 },
 "nbformat": 4,
 "nbformat_minor": 5
}
