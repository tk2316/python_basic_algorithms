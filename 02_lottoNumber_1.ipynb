{
 "cells": [
  {
   "cell_type": "code",
   "execution_count": 3,
   "id": "b0f2342d",
   "metadata": {},
   "outputs": [],
   "source": [
    "import random \n",
    "import time "
   ]
  },
  {
   "cell_type": "code",
   "execution_count": 7,
   "id": "405638d7",
   "metadata": {},
   "outputs": [
    {
     "name": "stdout",
     "output_type": "stream",
     "text": [
      "Numbers for First Place: 37 42 44 34 45 19 Bonus Number: 40\n"
     ]
    }
   ],
   "source": [
    "#Basic Lottery Program\n",
    "lotto = [i for i in range(1,46)] \n",
    "\n",
    "for i in range(1000000):\n",
    "    r = random.randrange(1, 45)\n",
    "    lotto[0], lotto[r] = lotto[r], lotto[0]\n",
    "print('Numbers for First Place: ', end='')\n",
    "\n",
    "for i in range(6):\n",
    "    print('{0:02d} '.format(lotto[i]), end='')\n",
    "    time.sleep(1)\n",
    "print('Bonus Number: {}'.format(lotto[6]))"
   ]
  },
  {
   "cell_type": "code",
   "execution_count": 9,
   "id": "b5bc2ef8",
   "metadata": {},
   "outputs": [
    {
     "name": "stdout",
     "output_type": "stream",
     "text": [
      "White Balls: 48 27 04 15 32 Red Ball: 4\n"
     ]
    }
   ],
   "source": [
    "#American Powerball Lottery Program\n",
    "lotto = [i for i in range(1,70)] \n",
    "\n",
    "for i in range(1000000):\n",
    "    r = random.randrange(1, 69)\n",
    "    lotto[0], lotto[r] = lotto[r], lotto[0]\n",
    "print('White Balls: ', end='')\n",
    "\n",
    "for i in range(5):\n",
    "    print('{0:02d} '.format(lotto[i]), end='')\n",
    "    time.sleep(1)\n",
    "print('Red Ball: {}'.format(random.randrange(1,27)))"
   ]
  }
 ],
 "metadata": {
  "kernelspec": {
   "display_name": "Python 3 (ipykernel)",
   "language": "python",
   "name": "python3"
  },
  "language_info": {
   "codemirror_mode": {
    "name": "ipython",
    "version": 3
   },
   "file_extension": ".py",
   "mimetype": "text/x-python",
   "name": "python",
   "nbconvert_exporter": "python",
   "pygments_lexer": "ipython3",
   "version": "3.9.6"
  }
 },
 "nbformat": 4,
 "nbformat_minor": 5
}
