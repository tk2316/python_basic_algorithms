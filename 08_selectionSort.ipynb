{
 "cells": [
  {
   "cell_type": "code",
   "execution_count": 1,
   "id": "9f2e4c70",
   "metadata": {},
   "outputs": [],
   "source": [
    "#Selection Sort\n",
    "lst = [8,3,20,4,9,1,100]\n",
    "\n",
    "def selection_sort(lst):\n",
    "    for i in range(len(lst)-1):\n",
    "        for j in range(i+1, len(lst)):\n",
    "            if lst[i] > lst[j]:\n",
    "                lst[i], lst[j] = lst[j], lst[i]\n",
    "        print('Iteration {} result: {}'.format(i + 1, lst))"
   ]
  },
  {
   "cell_type": "code",
   "execution_count": 2,
   "id": "70b532a2",
   "metadata": {},
   "outputs": [
    {
     "name": "stdout",
     "output_type": "stream",
     "text": [
      "Iteration 1 result: [1, 8, 20, 4, 9, 3, 100]\n",
      "Iteration 2 result: [1, 3, 20, 8, 9, 4, 100]\n",
      "Iteration 3 result: [1, 3, 4, 20, 9, 8, 100]\n",
      "Iteration 4 result: [1, 3, 4, 8, 20, 9, 100]\n",
      "Iteration 5 result: [1, 3, 4, 8, 9, 20, 100]\n",
      "Iteration 6 result: [1, 3, 4, 8, 9, 20, 100]\n"
     ]
    }
   ],
   "source": [
    "selection_sort(lst)"
   ]
  },
  {
   "cell_type": "code",
   "execution_count": 3,
   "id": "296d2c02",
   "metadata": {},
   "outputs": [],
   "source": [
    "#Selection Sort\n",
    "lst = [8,3,20,4,9,1,100]\n",
    "\n",
    "def selection_sort(lst):\n",
    "    for i in range(len(lst)-1):\n",
    "        for j in range(i+1, len(lst)):\n",
    "            if lst[i] < lst[j]:\n",
    "                lst[i], lst[j] = lst[j], lst[i]\n",
    "        print('Iteration {} result: {}'.format(i + 1, lst))"
   ]
  },
  {
   "cell_type": "code",
   "execution_count": 4,
   "id": "ffd78ba7",
   "metadata": {},
   "outputs": [
    {
     "name": "stdout",
     "output_type": "stream",
     "text": [
      "Iteration 1 result: [100, 3, 8, 4, 9, 1, 20]\n",
      "Iteration 2 result: [100, 20, 3, 4, 8, 1, 9]\n",
      "Iteration 3 result: [100, 20, 9, 3, 4, 1, 8]\n",
      "Iteration 4 result: [100, 20, 9, 8, 3, 1, 4]\n",
      "Iteration 5 result: [100, 20, 9, 8, 4, 1, 3]\n",
      "Iteration 6 result: [100, 20, 9, 8, 4, 3, 1]\n"
     ]
    }
   ],
   "source": [
    "selection_sort(lst)"
   ]
  }
 ],
 "metadata": {
  "kernelspec": {
   "display_name": "Python 3 (ipykernel)",
   "language": "python",
   "name": "python3"
  },
  "language_info": {
   "codemirror_mode": {
    "name": "ipython",
    "version": 3
   },
   "file_extension": ".py",
   "mimetype": "text/x-python",
   "name": "python",
   "nbconvert_exporter": "python",
   "pygments_lexer": "ipython3",
   "version": "3.9.6"
  }
 },
 "nbformat": 4,
 "nbformat_minor": 5
}
