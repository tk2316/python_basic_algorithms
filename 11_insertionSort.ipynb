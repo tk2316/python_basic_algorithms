{
 "cells": [
  {
   "cell_type": "code",
   "execution_count": 2,
   "id": "77304f20",
   "metadata": {},
   "outputs": [
    {
     "name": "stdout",
     "output_type": "stream",
     "text": [
      "Iteration 1: [1, 8, 2, 9]\n",
      "Iteration 2: [1, 2, 8, 9]\n",
      "Iteration 3: [1, 2, 8, 9]\n"
     ]
    }
   ],
   "source": [
    "#Insertion Sort\n",
    "lst = [1,8,2,9]\n",
    "\n",
    "def insertionSort(lst):\n",
    "    for i in range(1,len(lst)):\n",
    "        key = lst[i] \n",
    "        index = i    \n",
    "        \n",
    "        for j in range(i-1,-1,-1):\n",
    "            if lst[j] > key:\n",
    "                lst[j+1] = lst[j]\n",
    "                index -= 1\n",
    "    \n",
    "            else:\n",
    "                break\n",
    "        lst[index] = key\n",
    "        print(\"Iteration {}: {}\".format(i, lst))            \n",
    "            \n",
    "insertionSort(lst)\n",
    "    "
   ]
  }
 ],
 "metadata": {
  "kernelspec": {
   "display_name": "Python 3 (ipykernel)",
   "language": "python",
   "name": "python3"
  },
  "language_info": {
   "codemirror_mode": {
    "name": "ipython",
    "version": 3
   },
   "file_extension": ".py",
   "mimetype": "text/x-python",
   "name": "python",
   "nbconvert_exporter": "python",
   "pygments_lexer": "ipython3",
   "version": "3.9.6"
  }
 },
 "nbformat": 4,
 "nbformat_minor": 5
}
