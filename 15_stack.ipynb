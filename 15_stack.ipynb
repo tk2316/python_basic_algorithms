{
 "cells": [
  {
   "cell_type": "code",
   "execution_count": 1,
   "id": "6e6e79b7",
   "metadata": {},
   "outputs": [],
   "source": [
    "#Stack\n",
    "#LAST IN FIRST OUT"
   ]
  },
  {
   "cell_type": "code",
   "execution_count": 11,
   "id": "ab488593",
   "metadata": {},
   "outputs": [
    {
     "name": "stdout",
     "output_type": "stream",
     "text": [
      "Saved 1 in the stack\n",
      "Data in stack => 1   \n",
      "Saved 2 in the stack\n",
      "Data in stack => 1   2   \n",
      "Saved 3 in the stack\n",
      "Data in stack => 1   2   3   \n",
      "Saved 4 in the stack\n",
      "Data in stack => 1   2   3   4   \n",
      "Saved 5 in the stack\n",
      "Data in stack => 1   2   3   4   5   \n",
      "Pop data: 5\n",
      "Data in stack => 1   2   3   4   \n",
      "Pop data: 4\n",
      "Data in stack => 1   2   3   \n",
      "Pop data: 3\n",
      "Data in stack => 1   2   \n",
      "Pop data: 2\n",
      "Data in stack => 1   \n",
      "Pop data: 1\n",
      "Data in stack => Empty Stack\n",
      "\n",
      "Underflow!! No data to return\n"
     ]
    }
   ],
   "source": [
    "class Stack:\n",
    "    def __init__(self, size = 5): #default is size 5\n",
    "        self.stack = []\n",
    "        self.size = size\n",
    "        self.top = 0\n",
    "    \n",
    "    def push(self, data):\n",
    "        #This stack doesn't allow repetition of same values\n",
    "        if data in self.stack:\n",
    "            print(\"{} already exists in the stack\".format(data))\n",
    "        \n",
    "        else:\n",
    "    \n",
    "            if self.size > self.top:\n",
    "                #no overflow so there is space to save\n",
    "                self.stack.append(data)\n",
    "                self.top += 1\n",
    "                print(\"Saved {} in the stack\".format(data))\n",
    "                \n",
    "            else:\n",
    "                print(\"Overflow! Can't save\")\n",
    "                \n",
    "        self.view()\n",
    "        \n",
    "    def pop(self):\n",
    "        if self.top <= 0:\n",
    "            print(\"Underflow!! No data to return\")\n",
    "            \n",
    "        else:\n",
    "            data = self.stack.pop()\n",
    "            self.top -= 1\n",
    "            print(\"Pop data: {}\".format(data))\n",
    "            self.view()\n",
    "        \n",
    "        \n",
    "    def view(self):\n",
    "        print(\"Data in stack => \", end='')\n",
    "        \n",
    "        if self.top <= 0:\n",
    "            print(\"Empty Stack\")\n",
    "            \n",
    "        else:\n",
    "            for i in range(0, self.top):\n",
    "                print(self.stack[i], end='   ')\n",
    "        print()\n",
    "        \n",
    "stack = Stack()\n",
    "stack.push(1)\n",
    "stack.push(2)\n",
    "stack.push(3)\n",
    "stack.push(4)\n",
    "stack.push(5)\n",
    "stack.pop()\n",
    "stack.pop()\n",
    "stack.pop()\n",
    "stack.pop()\n",
    "stack.pop()\n",
    "stack.pop()"
   ]
  },
  {
   "cell_type": "code",
   "execution_count": null,
   "id": "970ce91f",
   "metadata": {},
   "outputs": [],
   "source": []
  }
 ],
 "metadata": {
  "kernelspec": {
   "display_name": "Python 3 (ipykernel)",
   "language": "python",
   "name": "python3"
  },
  "language_info": {
   "codemirror_mode": {
    "name": "ipython",
    "version": 3
   },
   "file_extension": ".py",
   "mimetype": "text/x-python",
   "name": "python",
   "nbconvert_exporter": "python",
   "pygments_lexer": "ipython3",
   "version": "3.9.6"
  }
 },
 "nbformat": 4,
 "nbformat_minor": 5
}
